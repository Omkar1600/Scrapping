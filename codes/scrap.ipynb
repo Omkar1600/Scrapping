{
 "cells": [
  {
   "cell_type": "code",
   "execution_count": 1,
   "metadata": {},
   "outputs": [],
   "source": [
    "import requests"
   ]
  },
  {
   "cell_type": "code",
   "execution_count": 2,
   "metadata": {},
   "outputs": [],
   "source": [
    "from bs4 import BeautifulSoup"
   ]
  },
  {
   "cell_type": "code",
   "execution_count": 2,
   "metadata": {},
   "outputs": [],
   "source": [
    "url='https://www.prokabaddi.com/standings'"
   ]
  },
  {
   "cell_type": "code",
   "execution_count": 3,
   "metadata": {},
   "outputs": [],
   "source": [
    "res=requests.get(url)\n",
    "res.status_code\n",
    "content=res.text"
   ]
  },
  {
   "cell_type": "code",
   "execution_count": 4,
   "metadata": {},
   "outputs": [],
   "source": [
    "\n",
    "doc=BeautifulSoup(content,'html.parser')"
   ]
  },
  {
   "cell_type": "code",
   "execution_count": 5,
   "metadata": {},
   "outputs": [
    {
     "name": "stdout",
     "output_type": "stream",
     "text": [
      "['Jaipur Pink Panthers', 'Puneri Paltan', 'Bengaluru Bulls', 'U.P. Yoddhas', 'Tamil Thalaivas', 'Dabang Delhi K.C.', 'Haryana Steelers', 'Gujarat Giants', 'U Mumba', 'Patna Pirates', 'Bengal Warriors', 'Telugu Titans']\n"
     ]
    }
   ],
   "source": [
    "# for names\n",
    "qualf=doc.find_all('p',{'class':'name'})\n",
    "team_names=[]\n",
    "for i in range(12):\n",
    "    team_names.append(qualf[i].text)\n",
    "print(team_names)"
   ]
  },
  {
   "cell_type": "code",
   "execution_count": 6,
   "metadata": {},
   "outputs": [
    {
     "name": "stdout",
     "output_type": "stream",
     "text": [
      "['22', '22', '22', '22', '22', '22', '22', '22', '22', '22', '22', '22']\n"
     ]
    }
   ],
   "source": [
    "# for match played\n",
    "plays=doc.find_all('div',{'class':'table-data matches-play'})\n",
    "no_matches=[]\n",
    "for i in range(1,13):\n",
    "    no_matches.append(plays[i].text)\n",
    "print(no_matches)\n"
   ]
  },
  {
   "cell_type": "code",
   "execution_count": 7,
   "metadata": {},
   "outputs": [
    {
     "name": "stdout",
     "output_type": "stream",
     "text": [
      "['15', '14', '13', '12', '10', '10', '10', '9', '10', '8', '8', '2']\n"
     ]
    }
   ],
   "source": [
    "wons=doc.find_all('div',{'class':'table-data matches-won'})\n",
    "no_wons=[]\n",
    "for i in range(1,13):\n",
    "    no_wons.append(wons[i].text)\n",
    "print(no_wons)"
   ]
  },
  {
   "cell_type": "code",
   "execution_count": 8,
   "metadata": {},
   "outputs": [
    {
     "name": "stdout",
     "output_type": "stream",
     "text": [
      "['6', '6', '8', '8', '8', '10', '10', '11', '12', '11', '11', '20']\n"
     ]
    }
   ],
   "source": [
    "losts=doc.find_all('div',{'class':'table-data matches-lost'})\n",
    "no_losts=[]\n",
    "for i in range(1,13):\n",
    "    no_losts.append(losts[i].text)\n",
    "print(no_losts)"
   ]
  },
  {
   "cell_type": "code",
   "execution_count": 9,
   "metadata": {},
   "outputs": [
    {
     "name": "stdout",
     "output_type": "stream",
     "text": [
      "['1', '2', '1', '2', '4', '2', '2', '2', '0', '3', '3', '0']\n"
     ]
    }
   ],
   "source": [
    "draws=doc.find_all('div',{'class':'table-data matches-draw'})\n",
    "no_draws=[]\n",
    "for i in range(1,13):\n",
    "    no_draws.append(draws[i].text)\n",
    "print(no_draws)"
   ]
  },
  {
   "cell_type": "code",
   "execution_count": 10,
   "metadata": {},
   "outputs": [
    {
     "name": "stdout",
     "output_type": "stream",
     "text": [
      "['174', '66', '39', '42', '5', '17', '16', '-16', '-28', '-58', '-12', '-245']\n"
     ]
    }
   ],
   "source": [
    "score_diffs=doc.find_all('div',{'class':'table-data score-diff'})\n",
    "no_score_diffs=[]\n",
    "for i in range(1,13):\n",
    "    no_score_diffs.append(score_diffs[i].text)\n",
    "print(no_score_diffs)"
   ]
  },
  {
   "cell_type": "code",
   "execution_count": 11,
   "metadata": {},
   "outputs": [
    {
     "name": "stdout",
     "output_type": "stream",
     "text": [
      "['82', '80', '74', '71', '66', '63', '61', '59', '56', '54', '53', '15']\n"
     ]
    }
   ],
   "source": [
    "points=doc.find_all('div',{'class':'table-data points'})\n",
    "no_points=[]\n",
    "for i in range(1,13):\n",
    "    no_points.append(points[i].text)\n",
    "print(no_points)"
   ]
  },
  {
   "cell_type": "code",
   "execution_count": 12,
   "metadata": {},
   "outputs": [],
   "source": [
    "ranks=[1,2,3,4,5,6,7,8,9,10,11,12]"
   ]
  },
  {
   "cell_type": "code",
   "execution_count": 3,
   "metadata": {},
   "outputs": [],
   "source": [
    "import pandas as pd"
   ]
  },
  {
   "cell_type": "code",
   "execution_count": 14,
   "metadata": {},
   "outputs": [
    {
     "name": "stdout",
     "output_type": "stream",
     "text": [
      "{'rank': [1, 2, 3, 4, 5, 6, 7, 8, 9, 10, 11, 12], 'Team_Names': ['Jaipur Pink Panthers', 'Puneri Paltan', 'Bengaluru Bulls', 'U.P. Yoddhas', 'Tamil Thalaivas', 'Dabang Delhi K.C.', 'Haryana Steelers', 'Gujarat Giants', 'U Mumba', 'Patna Pirates', 'Bengal Warriors', 'Telugu Titans'], 'Matches_Played': ['22', '22', '22', '22', '22', '22', '22', '22', '22', '22', '22', '22'], 'Wins': ['15', '14', '13', '12', '10', '10', '10', '9', '10', '8', '8', '2'], 'Losses': ['6', '6', '8', '8', '8', '10', '10', '11', '12', '11', '11', '20'], 'Ties': ['1', '2', '1', '2', '4', '2', '2', '2', '0', '3', '3', '0'], 'Score_Diff': ['174', '66', '39', '42', '5', '17', '16', '-16', '-28', '-58', '-12', '-245'], 'Points': ['82', '80', '74', '71', '66', '63', '61', '59', '56', '54', '53', '15']}\n"
     ]
    }
   ],
   "source": [
    "season1={\n",
    "   'rank':ranks,\n",
    "    'Team_Names':team_names,\n",
    "    'Matches_Played':no_matches,\n",
    "    'Wins':no_wons,\n",
    "    'Losses':no_losts,\n",
    "    'Ties':no_draws,\n",
    "    'Score_Diff':no_score_diffs,\n",
    "    'Points':no_points}\n",
    "\n",
    "print(season1)"
   ]
  },
  {
   "cell_type": "code",
   "execution_count": 15,
   "metadata": {},
   "outputs": [],
   "source": [
    "season1_df=pd.DataFrame(season1)"
   ]
  },
  {
   "cell_type": "code",
   "execution_count": 16,
   "metadata": {},
   "outputs": [
    {
     "data": {
      "text/html": [
       "<div>\n",
       "<style scoped>\n",
       "    .dataframe tbody tr th:only-of-type {\n",
       "        vertical-align: middle;\n",
       "    }\n",
       "\n",
       "    .dataframe tbody tr th {\n",
       "        vertical-align: top;\n",
       "    }\n",
       "\n",
       "    .dataframe thead th {\n",
       "        text-align: right;\n",
       "    }\n",
       "</style>\n",
       "<table border=\"1\" class=\"dataframe\">\n",
       "  <thead>\n",
       "    <tr style=\"text-align: right;\">\n",
       "      <th></th>\n",
       "      <th>rank</th>\n",
       "      <th>Team_Names</th>\n",
       "      <th>Matches_Played</th>\n",
       "      <th>Wins</th>\n",
       "      <th>Losses</th>\n",
       "      <th>Ties</th>\n",
       "      <th>Score_Diff</th>\n",
       "      <th>Points</th>\n",
       "    </tr>\n",
       "  </thead>\n",
       "  <tbody>\n",
       "    <tr>\n",
       "      <th>0</th>\n",
       "      <td>1</td>\n",
       "      <td>Jaipur Pink Panthers</td>\n",
       "      <td>22</td>\n",
       "      <td>15</td>\n",
       "      <td>6</td>\n",
       "      <td>1</td>\n",
       "      <td>174</td>\n",
       "      <td>82</td>\n",
       "    </tr>\n",
       "    <tr>\n",
       "      <th>1</th>\n",
       "      <td>2</td>\n",
       "      <td>Puneri Paltan</td>\n",
       "      <td>22</td>\n",
       "      <td>14</td>\n",
       "      <td>6</td>\n",
       "      <td>2</td>\n",
       "      <td>66</td>\n",
       "      <td>80</td>\n",
       "    </tr>\n",
       "    <tr>\n",
       "      <th>2</th>\n",
       "      <td>3</td>\n",
       "      <td>Bengaluru Bulls</td>\n",
       "      <td>22</td>\n",
       "      <td>13</td>\n",
       "      <td>8</td>\n",
       "      <td>1</td>\n",
       "      <td>39</td>\n",
       "      <td>74</td>\n",
       "    </tr>\n",
       "    <tr>\n",
       "      <th>3</th>\n",
       "      <td>4</td>\n",
       "      <td>U.P. Yoddhas</td>\n",
       "      <td>22</td>\n",
       "      <td>12</td>\n",
       "      <td>8</td>\n",
       "      <td>2</td>\n",
       "      <td>42</td>\n",
       "      <td>71</td>\n",
       "    </tr>\n",
       "    <tr>\n",
       "      <th>4</th>\n",
       "      <td>5</td>\n",
       "      <td>Tamil Thalaivas</td>\n",
       "      <td>22</td>\n",
       "      <td>10</td>\n",
       "      <td>8</td>\n",
       "      <td>4</td>\n",
       "      <td>5</td>\n",
       "      <td>66</td>\n",
       "    </tr>\n",
       "    <tr>\n",
       "      <th>5</th>\n",
       "      <td>6</td>\n",
       "      <td>Dabang Delhi K.C.</td>\n",
       "      <td>22</td>\n",
       "      <td>10</td>\n",
       "      <td>10</td>\n",
       "      <td>2</td>\n",
       "      <td>17</td>\n",
       "      <td>63</td>\n",
       "    </tr>\n",
       "    <tr>\n",
       "      <th>6</th>\n",
       "      <td>7</td>\n",
       "      <td>Haryana Steelers</td>\n",
       "      <td>22</td>\n",
       "      <td>10</td>\n",
       "      <td>10</td>\n",
       "      <td>2</td>\n",
       "      <td>16</td>\n",
       "      <td>61</td>\n",
       "    </tr>\n",
       "    <tr>\n",
       "      <th>7</th>\n",
       "      <td>8</td>\n",
       "      <td>Gujarat Giants</td>\n",
       "      <td>22</td>\n",
       "      <td>9</td>\n",
       "      <td>11</td>\n",
       "      <td>2</td>\n",
       "      <td>-16</td>\n",
       "      <td>59</td>\n",
       "    </tr>\n",
       "    <tr>\n",
       "      <th>8</th>\n",
       "      <td>9</td>\n",
       "      <td>U Mumba</td>\n",
       "      <td>22</td>\n",
       "      <td>10</td>\n",
       "      <td>12</td>\n",
       "      <td>0</td>\n",
       "      <td>-28</td>\n",
       "      <td>56</td>\n",
       "    </tr>\n",
       "    <tr>\n",
       "      <th>9</th>\n",
       "      <td>10</td>\n",
       "      <td>Patna Pirates</td>\n",
       "      <td>22</td>\n",
       "      <td>8</td>\n",
       "      <td>11</td>\n",
       "      <td>3</td>\n",
       "      <td>-58</td>\n",
       "      <td>54</td>\n",
       "    </tr>\n",
       "    <tr>\n",
       "      <th>10</th>\n",
       "      <td>11</td>\n",
       "      <td>Bengal Warriors</td>\n",
       "      <td>22</td>\n",
       "      <td>8</td>\n",
       "      <td>11</td>\n",
       "      <td>3</td>\n",
       "      <td>-12</td>\n",
       "      <td>53</td>\n",
       "    </tr>\n",
       "    <tr>\n",
       "      <th>11</th>\n",
       "      <td>12</td>\n",
       "      <td>Telugu Titans</td>\n",
       "      <td>22</td>\n",
       "      <td>2</td>\n",
       "      <td>20</td>\n",
       "      <td>0</td>\n",
       "      <td>-245</td>\n",
       "      <td>15</td>\n",
       "    </tr>\n",
       "  </tbody>\n",
       "</table>\n",
       "</div>"
      ],
      "text/plain": [
       "    rank            Team_Names Matches_Played Wins Losses Ties Score_Diff  \\\n",
       "0      1  Jaipur Pink Panthers             22   15      6    1        174   \n",
       "1      2         Puneri Paltan             22   14      6    2         66   \n",
       "2      3       Bengaluru Bulls             22   13      8    1         39   \n",
       "3      4          U.P. Yoddhas             22   12      8    2         42   \n",
       "4      5       Tamil Thalaivas             22   10      8    4          5   \n",
       "5      6     Dabang Delhi K.C.             22   10     10    2         17   \n",
       "6      7      Haryana Steelers             22   10     10    2         16   \n",
       "7      8        Gujarat Giants             22    9     11    2        -16   \n",
       "8      9               U Mumba             22   10     12    0        -28   \n",
       "9     10         Patna Pirates             22    8     11    3        -58   \n",
       "10    11       Bengal Warriors             22    8     11    3        -12   \n",
       "11    12         Telugu Titans             22    2     20    0       -245   \n",
       "\n",
       "   Points  \n",
       "0      82  \n",
       "1      80  \n",
       "2      74  \n",
       "3      71  \n",
       "4      66  \n",
       "5      63  \n",
       "6      61  \n",
       "7      59  \n",
       "8      56  \n",
       "9      54  \n",
       "10     53  \n",
       "11     15  "
      ]
     },
     "execution_count": 16,
     "metadata": {},
     "output_type": "execute_result"
    }
   ],
   "source": [
    "season1_df"
   ]
  },
  {
   "cell_type": "code",
   "execution_count": 18,
   "metadata": {},
   "outputs": [],
   "source": [
    "season1_df.to_csv('s9.csv', index=False)"
   ]
  },
  {
   "cell_type": "code",
   "execution_count": 4,
   "metadata": {},
   "outputs": [],
   "source": [
    "url='https://www.prokabaddi.com/stats/0-21-player-successful-raids-statistics'\n",
    "res=requests.get(url)\n",
    "res.status_code\n",
    "content=res.text"
   ]
  },
  {
   "cell_type": "code",
   "execution_count": 5,
   "metadata": {},
   "outputs": [],
   "source": [
    "doc=BeautifulSoup(content,'html.parser')"
   ]
  },
  {
   "cell_type": "code",
   "execution_count": 6,
   "metadata": {},
   "outputs": [],
   "source": [
    "name=doc.find_all('p',{'class':'name first-name'})\n",
    "l_name=doc.find_all('p',{'class':'name last-name'})\n",
    "played=doc.find_all('div',{'class':'table-data matches-played'})\n",
    "points=doc.find_all('div',{'class':'table-data total-points'})\n",
    "cat=doc.find_all('div',{'class':'category'})"
   ]
  },
  {
   "cell_type": "code",
   "execution_count": 7,
   "metadata": {},
   "outputs": [
    {
     "data": {
      "text/plain": [
       "10"
      ]
     },
     "execution_count": 7,
     "metadata": {},
     "output_type": "execute_result"
    }
   ],
   "source": [
    "len(name)"
   ]
  },
  {
   "cell_type": "code",
   "execution_count": 8,
   "metadata": {},
   "outputs": [],
   "source": [
    "names=[]\n",
    "lnames=[]\n",
    "cats=[]\n",
    "for i in range(10):\n",
    "    names.append(name[i].text.strip())\n",
    "    lnames.append(l_name[i].text.strip())\n",
    "    cats.append(cat[i].text.strip())\n",
    "\n",
    "matches_played=[]\n",
    "points_s=[]\n",
    "for i in range(1,11):\n",
    "    matches_played.append(played[i].text.strip())\n",
    "    points_s.append(points[i].text.strip())\n"
   ]
  },
  {
   "cell_type": "code",
   "execution_count": 9,
   "metadata": {},
   "outputs": [
    {
     "data": {
      "text/plain": [
       "['Raider',\n",
       " 'Raider',\n",
       " 'Raider',\n",
       " 'All-Rounder',\n",
       " 'Raider',\n",
       " 'Raider',\n",
       " 'Raider',\n",
       " 'Raider',\n",
       " 'Raider',\n",
       " 'Raider']"
      ]
     },
     "execution_count": 9,
     "metadata": {},
     "output_type": "execute_result"
    }
   ],
   "source": [
    "cats"
   ]
  },
  {
   "cell_type": "code",
   "execution_count": 10,
   "metadata": {},
   "outputs": [],
   "source": [
    "df={\n",
    "    'First_Name':names,\n",
    "    'Last_Name':lnames,\n",
    "    'Type':cats,\n",
    "    'Matches_Played':matches_played,\n",
    "    'Points_Scored':points_s\n",
    "}"
   ]
  },
  {
   "cell_type": "code",
   "execution_count": 11,
   "metadata": {},
   "outputs": [],
   "source": [
    "players=pd.DataFrame(df)"
   ]
  },
  {
   "cell_type": "code",
   "execution_count": 55,
   "metadata": {},
   "outputs": [
    {
     "data": {
      "text/html": [
       "<div>\n",
       "<style scoped>\n",
       "    .dataframe tbody tr th:only-of-type {\n",
       "        vertical-align: middle;\n",
       "    }\n",
       "\n",
       "    .dataframe tbody tr th {\n",
       "        vertical-align: top;\n",
       "    }\n",
       "\n",
       "    .dataframe thead th {\n",
       "        text-align: right;\n",
       "    }\n",
       "</style>\n",
       "<table border=\"1\" class=\"dataframe\">\n",
       "  <thead>\n",
       "    <tr style=\"text-align: right;\">\n",
       "      <th></th>\n",
       "      <th>First_Name</th>\n",
       "      <th>Last_Name</th>\n",
       "      <th>Type</th>\n",
       "      <th>Matches_Played</th>\n",
       "      <th>Points_Scored</th>\n",
       "    </tr>\n",
       "  </thead>\n",
       "  <tbody>\n",
       "    <tr>\n",
       "      <th>0</th>\n",
       "      <td>Pardeep</td>\n",
       "      <td>Narwal</td>\n",
       "      <td>Raider</td>\n",
       "      <td>153</td>\n",
       "      <td>1180</td>\n",
       "    </tr>\n",
       "    <tr>\n",
       "      <th>1</th>\n",
       "      <td>Maninder</td>\n",
       "      <td>Singh</td>\n",
       "      <td>Raider</td>\n",
       "      <td>122</td>\n",
       "      <td>958</td>\n",
       "    </tr>\n",
       "    <tr>\n",
       "      <th>2</th>\n",
       "      <td>Rahul</td>\n",
       "      <td>Chaudhari</td>\n",
       "      <td>Raider</td>\n",
       "      <td>150</td>\n",
       "      <td>854</td>\n",
       "    </tr>\n",
       "    <tr>\n",
       "      <th>3</th>\n",
       "      <td>Deepak</td>\n",
       "      <td>Hooda</td>\n",
       "      <td>All-Rounder</td>\n",
       "      <td>157</td>\n",
       "      <td>835</td>\n",
       "    </tr>\n",
       "    <tr>\n",
       "      <th>4</th>\n",
       "      <td>Naveen</td>\n",
       "      <td>Kumar</td>\n",
       "      <td>Raider</td>\n",
       "      <td>85</td>\n",
       "      <td>788</td>\n",
       "    </tr>\n",
       "    <tr>\n",
       "      <th>5</th>\n",
       "      <td>Pawan</td>\n",
       "      <td>Sehrawat</td>\n",
       "      <td>Raider</td>\n",
       "      <td>105</td>\n",
       "      <td>765</td>\n",
       "    </tr>\n",
       "    <tr>\n",
       "      <th>6</th>\n",
       "      <td>Ajay</td>\n",
       "      <td>Thakur</td>\n",
       "      <td>Raider</td>\n",
       "      <td>120</td>\n",
       "      <td>643</td>\n",
       "    </tr>\n",
       "    <tr>\n",
       "      <th>7</th>\n",
       "      <td>Sachin</td>\n",
       "      <td></td>\n",
       "      <td>Raider</td>\n",
       "      <td>106</td>\n",
       "      <td>643</td>\n",
       "    </tr>\n",
       "    <tr>\n",
       "      <th>8</th>\n",
       "      <td>Vikash</td>\n",
       "      <td>Kandola</td>\n",
       "      <td>Raider</td>\n",
       "      <td>101</td>\n",
       "      <td>583</td>\n",
       "    </tr>\n",
       "    <tr>\n",
       "      <th>9</th>\n",
       "      <td>Rohit</td>\n",
       "      <td>Kumar</td>\n",
       "      <td>Raider</td>\n",
       "      <td>101</td>\n",
       "      <td>559</td>\n",
       "    </tr>\n",
       "  </tbody>\n",
       "</table>\n",
       "</div>"
      ],
      "text/plain": [
       "  First_Name  Last_Name         Type Matches_Played Points_Scored\n",
       "0    Pardeep     Narwal       Raider            153          1180\n",
       "1   Maninder      Singh       Raider            122           958\n",
       "2      Rahul  Chaudhari       Raider            150           854\n",
       "3     Deepak      Hooda  All-Rounder            157           835\n",
       "4     Naveen      Kumar       Raider             85           788\n",
       "5      Pawan   Sehrawat       Raider            105           765\n",
       "6       Ajay     Thakur       Raider            120           643\n",
       "7     Sachin                  Raider            106           643\n",
       "8     Vikash    Kandola       Raider            101           583\n",
       "9      Rohit      Kumar       Raider            101           559"
      ]
     },
     "execution_count": 55,
     "metadata": {},
     "output_type": "execute_result"
    }
   ],
   "source": [
    "players"
   ]
  },
  {
   "cell_type": "code",
   "execution_count": 12,
   "metadata": {},
   "outputs": [],
   "source": [
    "players.to_csv('topplayers.csv',index=False)"
   ]
  },
  {
   "cell_type": "code",
   "execution_count": 3,
   "metadata": {},
   "outputs": [
    {
     "data": {
      "text/plain": [
       "200"
      ]
     },
     "execution_count": 3,
     "metadata": {},
     "output_type": "execute_result"
    }
   ],
   "source": [
    "url='https://feeds.prokabaddi.com/SI/20/Standings.json'\n",
    "res=requests.get(url)\n",
    "res.status_code\n"
   ]
  },
  {
   "cell_type": "code",
   "execution_count": 14,
   "metadata": {},
   "outputs": [],
   "source": [
    "content=res.text"
   ]
  },
  {
   "cell_type": "code",
   "execution_count": 15,
   "metadata": {},
   "outputs": [],
   "source": [
    "doc=BeautifulSoup(content,'html.parser')"
   ]
  },
  {
   "cell_type": "code",
   "execution_count": 21,
   "metadata": {},
   "outputs": [],
   "source": [
    "a=doc.find_all('teams')"
   ]
  },
  {
   "cell_type": "code",
   "execution_count": 22,
   "metadata": {},
   "outputs": [
    {
     "data": {
      "text/plain": [
       "{\"standings\":{\"series_id\":1,\"series_name\":\"Pro Kabaddi Season 1\",\"parent_series_id\":1,\"parent_series_global_id\":0,\"last_updated\":\"Dec 20, 2021\",\"groups\":[{\"id\":1,\"name\":\"\",\"teams\":{\"team\":[{\"team_id\":3,\"team_global_id\":0,\"team_name\":\"Jaipur Pink Panthers\",\"team_short_name\":\"Jaipur\",\"position\":\"1\",\"prev_position\":null,\"position_status\":null,\"played\":\"14\",\"wins\":\"10\",\"lost\":\"3\",\"tied\":\"1\",\"draws\":\"0\",\"noresult\":\"0\",\"score_diff\":\"0\",\"points_conceded\":\"\",\"points_scored\":\"\",\"points\":\"54\",\"away_wins\":\"\",\"away_points_conceded\":\"\",\"away_points_scored\":\"\",\"home_wins\":\"\",\"is_qualified\":true,\"trump_matches_won\":\"\",\"ga\":\"\",\"gf\":\"\",\"match_result\":{\"match\":[{\"id\":0,\"result\":\"L\",\"prev_position\":null,\"date\":\"2014-03-14\",\"teama_id\":3,\"teama_short_name\":\"JAI\",\"teama_score\":9,\"teamb_id\":5,\"teamb_short_name\":\"MUM\",\"teamb_score\":18,\"post_match_position\":null,\"match_result\":\"U Mumba Won by 9 Pts\"},{\"id\":0,\"result\":\"L\",\"prev_position\":null,\"date\":\"2016-06-25\",\"teama_id\":5,\"teama_short_name\":\"MUM\",\"teama_score\":22,\"teamb_id\":3,\"teamb_short_name\":\"JAI\",\"teamb_score\":17,\"post_match_position\":null,\"match_result\":\"U Mumba Won by 5 Pts\"},{\"id\":0,\"result\":\"W\",\"prev_position\":null,\"date\":\"2016-06-29\",\"teama_id\":3,\"teama_short_name\":\"JAI\",\"teama_score\":14,\"teamb_id\":8,\"teamb_short_name\":\"HYD\",\"teamb_score\":14,\"post_match_position\":null,\"match_result\":\"Jaipur Pink Panthers Won by 0 Pts\"},{\"id\":0,\"result\":\"\",\"prev_position\":null,\"date\":\"2016-06-30\",\"teama_id\":3,\"teama_short_name\":\"JAI\",\"teama_score\":15,\"teamb_id\":1,\"teamb_short_name\":\"BLR\",\"teamb_score\":17,\"post_match_position\":null,\"match_result\":\"\"},{\"id\":0,\"result\":\"W\",\"prev_position\":null,\"date\":\"2016-07-01\",\"teama_id\":3,\"teama_short_name\":\"JAI\",\"teama_score\":15,\"teamb_id\":4,\"teamb_short_name\":\"KOL\",\"teamb_score\":14,\"post_match_position\":null,\"match_result\":\"Jaipur Pink Panthers Won by 1 Pts\"},{\"id\":0,\"result\":\"L\",\"prev_position\":null,\"date\":\"2016-07-02\",\"teama_id\":3,\"teama_short_name\":\"JAI\",\"teama_score\":15,\"teamb_id\":7,\"teamb_short_name\":\"PUNE\",\"teamb_score\":17,\"post_match_position\":null,\"match_result\":\"Puneri Paltan Won by 2 Pts\"},{\"id\":0,\"result\":\"W\",\"prev_position\":null,\"date\":\"2016-07-06\",\"teama_id\":2,\"teama_short_name\":\"DEL\",\"teama_score\":11,\"teamb_id\":3,\"teamb_short_name\":\"JAI\",\"teamb_score\":24,\"post_match_position\":null,\"match_result\":\"Jaipur Pink Panthers Won by 13 Pts\"},{\"id\":0,\"result\":\"W\",\"prev_position\":null,\"date\":\"2016-07-10\",\"teama_id\":6,\"teama_short_name\":\"PAT\",\"teama_score\":12,\"teamb_id\":3,\"teamb_short_name\":\"JAI\",\"teamb_score\":19,\"post_match_position\":null,\"match_result\":\"Jaipur Pink Panthers Won by 7 Pts\"},{\"id\":0,\"result\":\"W\",\"prev_position\":null,\"date\":\"2016-07-13\",\"teama_id\":1,\"teama_short_name\":\"BLR\",\"teama_score\":10,\"teamb_id\":3,\"teamb_short_name\":\"JAI\",\"teamb_score\":15,\"post_match_position\":null,\"match_result\":\"Jaipur Pink Panthers Won by 5 Pts\"},{\"id\":0,\"result\":\"L\",\"prev_position\":null,\"date\":\"2016-07-16\",\"teama_id\":4,\"teama_short_name\":\"KOL\",\"teama_score\":15,\"teamb_id\":3,\"teamb_short_name\":\"JAI\",\"teamb_score\":11,\"post_match_position\":null,\"match_result\":\"Bengal Warriors Won by 4 Pts\"},{\"id\":0,\"result\":\"W\",\"prev_position\":null,\"date\":\"2016-07-17\",\"teama_id\":7,\"teama_short_name\":\"PUNE\",\"teama_score\":12,\"teamb_id\":3,\"teamb_short_name\":\"JAI\",\"teamb_score\":17,\"post_match_position\":null,\"match_result\":\"Jaipur Pink Panthers Won by 5 Pts\"},{\"id\":0,\"result\":\"W\",\"prev_position\":null,\"date\":\"2016-07-21\",\"teama_id\":3,\"teama_short_name\":\"JAI\",\"teama_score\":10,\"teamb_id\":2,\"teamb_short_name\":\"DEL\",\"teamb_score\":14,\"post_match_position\":null,\"match_result\":\"Jaipur Pink Panthers Won by -4 Pts\"},{\"id\":0,\"result\":\"W\",\"prev_position\":null,\"date\":\"2016-07-22\",\"teama_id\":3,\"teama_short_name\":\"JAI\",\"teama_score\":15,\"teamb_id\":6,\"teamb_short_name\":\"PAT\",\"teamb_score\":11,\"post_match_position\":null,\"match_result\":\"Jaipur Pink Panthers Won by 4 Pts\"},{\"id\":0,\"result\":\"L\",\"prev_position\":null,\"date\":\"2016-07-24\",\"teama_id\":8,\"teama_short_name\":\"HYD\",\"teama_score\":22,\"teamb_id\":3,\"teamb_short_name\":\"JAI\",\"teamb_score\":12,\"post_match_position\":null,\"match_result\":\"Telugu Titans Won by 10 Pts\"},{\"id\":0,\"result\":\"W\",\"prev_position\":null,\"date\":\"2016-07-29\",\"teama_id\":8,\"teama_short_name\":\"HYD\",\"teama_score\":9,\"teamb_id\":3,\"teamb_short_name\":\"JAI\",\"teamb_score\":16,\"post_match_position\":null,\"match_result\":\"Jaipur Pink Panthers Won by 7 Pts\"},{\"id\":0,\"result\":\"L\",\"prev_position\":null,\"date\":\"2016-07-31\",\"teama_id\":6,\"teama_short_name\":\"PAT\",\"teama_score\":20,\"teamb_id\":3,\"teamb_short_name\":\"JAI\",\"teamb_score\":13,\"post_match_position\":null,\"match_result\":\"Patna Pirates Won by 7 Pts\"}]}},{\"team_id\":5,\"team_global_id\":0,\"team_name\":\"U Mumba\",\"team_short_name\":\"Mumbai\",\"position\":\"2\",\"prev_position\":null,\"position_status\":null,\"played\":\"14\",\"wins\":\"8\",\"lost\":\"3\",\"tied\":\"3\",\"draws\":\"0\",\"noresult\":\"0\",\"score_diff\":\"0\",\"points_conceded\":\"\",\"points_scored\":\"\",\"points\":\"51\",\"away_wins\":\"\",\"away_points_conceded\":\"\",\"away_points_scored\":\"\",\"home_wins\":\"\",\"is_qualified\":true,\"trump_matches_won\":\"\",\"ga\":\"\",\"gf\":\"\",\"match_result\":{\"match\":[{\"id\":0,\"result\":\"W\",\"prev_position\":null,\"date\":\"2014-03-14\",\"teama_id\":3,\"teama_short_name\":\"JAI\",\"teama_score\":9,\"teamb_id\":5,\"teamb_short_name\":\"MUM\",\"teamb_score\":18,\"post_match_position\":null,\"match_result\":\"U Mumba Won by 9 Pts\"},{\"id\":0,\"result\":\"W\",\"prev_position\":null,\"date\":\"2016-06-25\",\"teama_id\":5,\"teama_short_name\":\"MUM\",\"teama_score\":22,\"teamb_id\":3,\"teamb_short_name\":\"JAI\",\"teamb_score\":17,\"post_match_position\":null,\"match_result\":\"U Mumba Won by 5 Pts\"},{\"id\":0,\"result\":\"L\",\"prev_position\":null,\"date\":\"2016-06-26\",\"teama_id\":7,\"teama_short_name\":\"PUNE\",\"teama_score\":17,\"teamb_id\":5,\"teamb_short_name\":\"MUM\",\"teamb_score\":10,\"post_match_position\":null,\"match_result\":\"Puneri Paltan Won by 7 Pts\"},{\"id\":0,\"result\":\"L\",\"prev_position\":null,\"date\":\"2016-06-29\",\"teama_id\":5,\"teama_short_name\":\"MUM\",\"teama_score\":20,\"teamb_id\":6,\"teamb_short_name\":\"PAT\",\"teamb_score\":17,\"post_match_position\":null,\"match_result\":\"Patna Pirates Won by -3 Pts\"},{\"id\":0,\"result\":\"W\",\"prev_position\":null,\"date\":\"2016-07-01\",\"teama_id\":5,\"teama_short_name\":\"MUM\",\"teama_score\":17,\"teamb_id\":2,\"teamb_short_name\":\"DEL\",\"teamb_score\":15,\"post_match_position\":null,\"match_result\":\"U Mumba Won by 2 Pts\"},{\"id\":0,\"result\":\"W\",\"prev_position\":null,\"date\":\"2016-07-03\",\"teama_id\":4,\"teama_short_name\":\"KOL\",\"teama_score\":8,\"teamb_id\":5,\"teamb_short_name\":\"MUM\",\"teamb_score\":19,\"post_match_position\":null,\"match_result\":\"U Mumba Won by 11 Pts\"},{\"id\":0,\"result\":\"L\",\"prev_position\":null,\"date\":\"2016-07-06\",\"teama_id\":8,\"teama_short_name\":\"HYD\",\"teama_score\":16,\"teamb_id\":5,\"teamb_short_name\":\"MUM\",\"teamb_score\":15,\"post_match_position\":null,\"match_result\":\"Telugu Titans Won by 1 Pts\"},{\"id\":0,\"result\":\"W\",\"prev_position\":null,\"date\":\"2016-07-08\",\"teama_id\":1,\"teama_short_name\":\"BLR\",\"teama_score\":13,\"teamb_id\":5,\"teamb_short_name\":\"MUM\",\"teamb_score\":13,\"post_match_position\":null,\"match_result\":\"U Mumba Won by 0 Pts\"},{\"id\":0,\"result\":\"L\",\"prev_position\":null,\"date\":\"2016-07-16\",\"teama_id\":6,\"teama_short_name\":\"PAT\",\"teama_score\":22,\"teamb_id\":5,\"teamb_short_name\":\"MUM\",\"teamb_score\":15,\"post_match_position\":null,\"match_result\":\"Patna Pirates Won by 7 Pts\"},{\"id\":0,\"result\":\"W\",\"prev_position\":null,\"date\":\"2016-07-20\",\"teama_id\":5,\"teama_short_name\":\"MUM\",\"teama_score\":16,\"teamb_id\":7,\"teamb_short_name\":\"PUNE\",\"teamb_score\":16,\"post_match_position\":null,\"match_result\":\"U Mumba Won by 0 Pts\"},{\"id\":0,\"result\":\"\",\"prev_position\":null,\"date\":\"2016-07-21\",\"teama_id\":5,\"teama_short_name\":\"MUM\",\"teama_score\":14,\"teamb_id\":8,\"teamb_short_name\":\"HYD\",\"teamb_score\":11,\"post_match_position\":null,\"match_result\":\"\"},{\"id\":0,\"result\":\"L\",\"prev_position\":null,\"date\":\"2016-07-21\",\"teama_id\":5,\"teama_short_name\":\"MUM\",\"teama_score\":11,\"teamb_id\":4,\"teamb_short_name\":\"KOL\",\"teamb_score\":18,\"post_match_position\":null,\"match_result\":\"Bengal Warriors Won by 7 Pts\"},{\"id\":0,\"result\":\"L\",\"prev_position\":null,\"date\":\"2016-07-23\",\"teama_id\":5,\"teama_short_name\":\"MUM\",\"teama_score\":17,\"teamb_id\":1,\"teamb_short_name\":\"BLR\",\"teamb_score\":18,\"post_match_position\":null,\"match_result\":\"Bengaluru Bulls Won by 1 Pts\"},{\"id\":0,\"result\":\"W\",\"prev_position\":null,\"date\":\"2016-07-27\",\"teama_id\":2,\"teama_short_name\":\"DEL\",\"teama_score\":18,\"teamb_id\":5,\"teamb_short_name\":\"MUM\",\"teamb_score\":23,\"post_match_position\":null,\"match_result\":\"U Mumba Won by 5 Pts\"}]}},{\"team_id\":1,\"team_global_id\":0,\"team_name\":\"Bengaluru Bulls\",\"team_short_name\":\"Bengaluru\",\"position\":\"3\",\"prev_position\":null,\"position_status\":null,\"played\":\"14\",\"wins\":\"8\",\"lost\":\"5\",\"tied\":\"1\",\"draws\":\"0\",\"noresult\":\"0\",\"score_diff\":\"0\",\"points_conceded\":\"\",\"points_scored\":\"\",\"points\":\"47\",\"away_wins\":\"\",\"away_points_conceded\":\"\",\"away_points_scored\":\"\",\"home_wins\":\"\",\"is_qualified\":true,\"trump_matches_won\":\"\",\"ga\":\"\",\"gf\":\"\",\"match_result\":{\"match\":[{\"id\":0,\"result\":\"W\",\"prev_position\":null,\"date\":\"2016-06-26\",\"teama_id\":1,\"teama_short_name\":\"BLR\",\"teama_score\":12,\"teamb_id\":4,\"teamb_short_name\":\"KOL\",\"teamb_score\":13,\"post_match_position\":null,\"match_result\":\"Bengaluru Bulls Won by -1 Pts\"},{\"id\":0,\"result\":\"\",\"prev_position\":null,\"date\":\"2016-06-30\",\"teama_id\":3,\"teama_short_name\":\"JAI\",\"teama_score\":15,\"teamb_id\":1,\"teamb_short_name\":\"BLR\",\"teamb_score\":17,\"post_match_position\":null,\"match_result\":\"\"},{\"id\":0,\"result\":\"L\",\"prev_position\":null,\"date\":\"2016-07-02\",\"teama_id\":2,\"teama_short_name\":\"DEL\",\"teama_score\":23,\"teamb_id\":1,\"teamb_short_name\":\"BLR\",\"teamb_score\":13,\"post_match_position\":null,\"match_result\":\"Dabang Delhi K.C. Won by 10 Pts\"},{\"id\":0,\"result\":\"W\",\"prev_position\":null,\"date\":\"2016-07-04\",\"teama_id\":1,\"teama_short_name\":\"BLR\",\"teama_score\":18,\"teamb_id\":7,\"teamb_short_name\":\"PUNE\",\"teamb_score\":14,\"post_match_position\":null,\"match_result\":\"Bengaluru Bulls Won by 4 Pts\"},{\"id\":0,\"result\":\"W\",\"prev_position\":null,\"date\":\"2016-07-05\",\"teama_id\":8,\"teama_short_name\":\"HYD\",\"teama_score\":10,\"teamb_id\":1,\"teamb_short_name\":\"BLR\",\"teamb_score\":15,\"post_match_position\":null,\"match_result\":\"Bengaluru Bulls Won by 5 Pts\"},{\"id\":0,\"result\":\"L\",\"prev_position\":null,\"date\":\"2016-07-07\",\"teama_id\":6,\"teama_short_name\":\"PAT\",\"teama_score\":17,\"teamb_id\":1,\"teamb_short_name\":\"BLR\",\"teamb_score\":12,\"post_match_position\":null,\"match_result\":\"Patna Pirates Won by 5 Pts\"},{\"id\":0,\"result\":\"L\",\"prev_position\":null,\"date\":\"2016-07-08\",\"teama_id\":1,\"teama_short_name\":\"BLR\",\"teama_score\":13,\"teamb_id\":5,\"teamb_short_name\":\"MUM\",\"teamb_score\":13,\"post_match_position\":null,\"match_result\":\"U Mumba Won by 0 Pts\"},{\"id\":0,\"result\":\"L\",\"prev_position\":null,\"date\":\"2016-07-12\",\"teama_id\":1,\"teama_short_name\":\"BLR\",\"teama_score\":10,\"teamb_id\":8,\"teamb_short_name\":\"HYD\",\"teamb_score\":20,\"post_match_position\":null,\"match_result\":\"Telugu Titans Won by 10 Pts\"},{\"id\":0,\"result\":\"L\",\"prev_position\":null,\"date\":\"2016-07-13\",\"teama_id\":1,\"teama_short_name\":\"BLR\",\"teama_score\":10,\"teamb_id\":3,\"teamb_short_name\":\"JAI\",\"teamb_score\":15,\"post_match_position\":null,\"match_result\":\"Jaipur Pink Panthers Won by 5 Pts\"},{\"id\":0,\"result\":\"L\",\"prev_position\":null,\"date\":\"2016-07-14\",\"teama_id\":1,\"teama_short_name\":\"BLR\",\"teama_score\":15,\"teamb_id\":6,\"teamb_short_name\":\"PAT\",\"teamb_score\":26,\"post_match_position\":null,\"match_result\":\"Patna Pirates Won by 11 Pts\"},{\"id\":0,\"result\":\"L\",\"prev_position\":null,\"date\":\"2016-07-15\",\"teama_id\":1,\"teama_short_name\":\"BLR\",\"teama_score\":9,\"teamb_id\":2,\"teamb_short_name\":\"DEL\",\"teamb_score\":21,\"post_match_position\":null,\"match_result\":\"Dabang Delhi K.C. Won by 12 Pts\"},{\"id\":0,\"result\":\"W\",\"prev_position\":null,\"date\":\"2016-07-19\",\"teama_id\":4,\"teama_short_name\":\"KOL\",\"teama_score\":12,\"teamb_id\":1,\"teamb_short_name\":\"BLR\",\"teamb_score\":15,\"post_match_position\":null,\"match_result\":\"Bengaluru Bulls Won by 3 Pts\"},{\"id\":0,\"result\":\"W\",\"prev_position\":null,\"date\":\"2016-07-23\",\"teama_id\":5,\"teama_short_name\":\"MUM\",\"teama_score\":17,\"teamb_id\":1,\"teamb_short_name\":\"BLR\",\"teamb_score\":18,\"post_match_position\":null,\"match_result\":\"Bengaluru Bulls Won by 1 Pts\"},{\"id\":0,\"result\":\"L\",\"prev_position\":null,\"date\":\"2016-07-27\",\"teama_id\":7,\"teama_short_name\":\"PUNE\",\"teama_score\":20,\"teamb_id\":1,\"teamb_short_name\":\"BLR\",\"teamb_score\":22,\"post_match_position\":null,\"match_result\":\"Puneri Paltan Won by -2 Pts\"}]}},{\"team_id\":6,\"team_global_id\":0,\"team_name\":\"Patna Pirates\",\"team_short_name\":\"Patna\",\"position\":\"4\",\"prev_position\":null,\"position_status\":null,\"played\":\"14\",\"wins\":\"7\",\"lost\":\"5\",\"tied\":\"2\",\"draws\":\"0\",\"noresult\":\"0\",\"score_diff\":\"0\",\"points_conceded\":\"\",\"points_scored\":\"\",\"points\":\"45\",\"away_wins\":\"\",\"away_points_conceded\":\"\",\"away_points_scored\":\"\",\"home_wins\":\"\",\"is_qualified\":true,\"trump_matches_won\":\"\",\"ga\":\"\",\"gf\":\"\",\"match_result\":{\"match\":[{\"id\":0,\"result\":\"W\",\"prev_position\":null,\"date\":\"2016-06-27\",\"teama_id\":7,\"teama_short_name\":\"PUNE\",\"teama_score\":14,\"teamb_id\":6,\"teamb_short_name\":\"PAT\",\"teamb_score\":15,\"post_match_position\":null,\"match_result\":\"Patna Pirates Won by 1 Pts\"},{\"id\":0,\"result\":\"W\",\"prev_position\":null,\"date\":\"2016-06-29\",\"teama_id\":5,\"teama_short_name\":\"MUM\",\"teama_score\":20,\"teamb_id\":6,\"teamb_short_name\":\"PAT\",\"teamb_score\":17,\"post_match_position\":null,\"match_result\":\"Patna Pirates Won by -3 Pts\"},{\"id\":0,\"result\":\"W\",\"prev_position\":null,\"date\":\"2016-07-03\",\"teama_id\":8,\"teama_short_name\":\"HYD\",\"teama_score\":17,\"teamb_id\":6,\"teamb_short_name\":\"PAT\",\"teamb_score\":16,\"post_match_position\":null,\"match_result\":\"Patna Pirates Won by -1 Pts\"},{\"id\":0,\"result\":\"W\",\"prev_position\":null,\"date\":\"2016-07-07\",\"teama_id\":6,\"teama_short_name\":\"PAT\",\"teama_score\":17,\"teamb_id\":1,\"teamb_short_name\":\"BLR\",\"teamb_score\":12,\"post_match_position\":null,\"match_result\":\"Patna Pirates Won by 5 Pts\"},{\"id\":0,\"result\":\"W\",\"prev_position\":null,\"date\":\"2016-07-08\",\"teama_id\":6,\"teama_short_name\":\"PAT\",\"teama_score\":20,\"teamb_id\":4,\"teamb_short_name\":\"KOL\",\"teamb_score\":12,\"post_match_position\":null,\"match_result\":\"Patna Pirates Won by 8 Pts\"},{\"id\":0,\"result\":\"L\",\"prev_position\":null,\"date\":\"2016-07-09\",\"teama_id\":6,\"teama_short_name\":\"PAT\",\"teama_score\":7,\"teamb_id\":2,\"teamb_short_name\":\"DEL\",\"teamb_score\":22,\"post_match_position\":null,\"match_result\":\"Dabang Delhi K.C. Won by 15 Pts\"},{\"id\":0,\"result\":\"L\",\"prev_position\":null,\"date\":\"2016-07-10\",\"teama_id\":6,\"teama_short_name\":\"PAT\",\"teama_score\":12,\"teamb_id\":3,\"teamb_short_name\":\"JAI\",\"teamb_score\":19,\"post_match_position\":null,\"match_result\":\"Jaipur Pink Panthers Won by 7 Pts\"},{\"id\":0,\"result\":\"W\",\"prev_position\":null,\"date\":\"2016-07-14\",\"teama_id\":1,\"teama_short_name\":\"BLR\",\"teama_score\":15,\"teamb_id\":6,\"teamb_short_name\":\"PAT\",\"teamb_score\":26,\"post_match_position\":null,\"match_result\":\"Patna Pirates Won by 11 Pts\"},{\"id\":0,\"result\":\"W\",\"prev_position\":null,\"date\":\"2016-07-16\",\"teama_id\":6,\"teama_short_name\":\"PAT\",\"teama_score\":22,\"teamb_id\":5,\"teamb_short_name\":\"MUM\",\"teamb_score\":15,\"post_match_position\":null,\"match_result\":\"Patna Pirates Won by 7 Pts\"},{\"id\":0,\"result\":\"W\",\"prev_position\":null,\"date\":\"2016-07-17\",\"teama_id\":4,\"teama_short_name\":\"KOL\",\"teama_score\":16,\"teamb_id\":6,\"teamb_short_name\":\"PAT\",\"teamb_score\":20,\"post_match_position\":null,\"match_result\":\"Patna Pirates Won by 4 Pts\"},{\"id\":0,\"result\":\"L\",\"prev_position\":null,\"date\":\"2016-07-22\",\"teama_id\":3,\"teama_short_name\":\"JAI\",\"teama_score\":15,\"teamb_id\":6,\"teamb_short_name\":\"PAT\",\"teamb_score\":11,\"post_match_position\":null,\"match_result\":\"Jaipur Pink Panthers Won by 4 Pts\"},{\"id\":0,\"result\":\"W\",\"prev_position\":null,\"date\":\"2016-07-23\",\"teama_id\":6,\"teama_short_name\":\"PAT\",\"teama_score\":17,\"teamb_id\":7,\"teamb_short_name\":\"PUNE\",\"teamb_score\":16,\"post_match_position\":null,\"match_result\":\"Patna Pirates Won by 1 Pts\"},{\"id\":0,\"result\":\"W\",\"prev_position\":null,\"date\":\"2016-07-25\",\"teama_id\":2,\"teama_short_name\":\"DEL\",\"teama_score\":21,\"teamb_id\":6,\"teamb_short_name\":\"PAT\",\"teamb_score\":12,\"post_match_position\":null,\"match_result\":\"Patna Pirates Won by -9 Pts\"},{\"id\":0,\"result\":\"L\",\"prev_position\":null,\"date\":\"2016-07-26\",\"teama_id\":6,\"teama_short_name\":\"PAT\",\"teama_score\":12,\"teamb_id\":8,\"teamb_short_name\":\"HYD\",\"teamb_score\":25,\"post_match_position\":null,\"match_result\":\"Telugu Titans Won by 13 Pts\"},{\"id\":0,\"result\":\"W\",\"prev_position\":null,\"date\":\"2016-07-29\",\"teama_id\":6,\"teama_short_name\":\"PAT\",\"teama_score\":22,\"teamb_id\":7,\"teamb_short_name\":\"PUNE\",\"teamb_score\":16,\"post_match_position\":null,\"match_result\":\"Patna Pirates Won by 6 Pts\"},{\"id\":0,\"result\":\"W\",\"prev_position\":null,\"date\":\"2016-07-31\",\"teama_id\":6,\"teama_short_name\":\"PAT\",\"teama_score\":20,\"teamb_id\":3,\"teamb_short_name\":\"JAI\",\"teamb_score\":13,\"post_match_position\":null,\"match_result\":\"Patna Pirates Won by 7 Pts\"}]}},{\"team_id\":8,\"team_global_id\":0,\"team_name\":\"Telugu Titans\",\"team_short_name\":\"Hyderabad\",\"position\":\"5\",\"prev_position\":null,\"position_status\":null,\"played\":\"14\",\"wins\":\"6\",\"lost\":\"5\",\"tied\":\"3\",\"draws\":\"0\",\"noresult\":\"0\",\"score_diff\":\"0\",\"points_conceded\":\"\",\"points_scored\":\"\",\"points\":\"42\",\"away_wins\":\"\",\"away_points_conceded\":\"\",\"away_points_scored\":\"\",\"home_wins\":\"\",\"is_qualified\":false,\"trump_matches_won\":\"\",\"ga\":\"\",\"gf\":\"\",\"match_result\":{\"match\":[{\"id\":0,\"result\":\"L\",\"prev_position\":null,\"date\":\"2016-06-25\",\"teama_id\":7,\"teama_short_name\":\"PUNE\",\"teama_score\":16,\"teamb_id\":8,\"teamb_short_name\":\"HYD\",\"teamb_score\":16,\"post_match_position\":null,\"match_result\":\"Puneri Paltan Won by 0 Pts\"},{\"id\":0,\"result\":\"L\",\"prev_position\":null,\"date\":\"2016-06-29\",\"teama_id\":3,\"teama_short_name\":\"JAI\",\"teama_score\":14,\"teamb_id\":8,\"teamb_short_name\":\"HYD\",\"teamb_score\":14,\"post_match_position\":null,\"match_result\":\"Jaipur Pink Panthers Won by 0 Pts\"},{\"id\":0,\"result\":\"L\",\"prev_position\":null,\"date\":\"2016-07-03\",\"teama_id\":8,\"teama_short_name\":\"HYD\",\"teama_score\":17,\"teamb_id\":6,\"teamb_short_name\":\"PAT\",\"teamb_score\":16,\"post_match_position\":null,\"match_result\":\"Patna Pirates Won by -1 Pts\"},{\"id\":0,\"result\":\"W\",\"prev_position\":null,\"date\":\"2016-07-04\",\"teama_id\":8,\"teama_short_name\":\"HYD\",\"teama_score\":18,\"teamb_id\":4,\"teamb_short_name\":\"KOL\",\"teamb_score\":12,\"post_match_position\":null,\"match_result\":\"Telugu Titans Won by 6 Pts\"},{\"id\":0,\"result\":\"L\",\"prev_position\":null,\"date\":\"2016-07-05\",\"teama_id\":8,\"teama_short_name\":\"HYD\",\"teama_score\":10,\"teamb_id\":1,\"teamb_short_name\":\"BLR\",\"teamb_score\":15,\"post_match_position\":null,\"match_result\":\"Bengaluru Bulls Won by 5 Pts\"},{\"id\":0,\"result\":\"W\",\"prev_position\":null,\"date\":\"2016-07-06\",\"teama_id\":8,\"teama_short_name\":\"HYD\",\"teama_score\":16,\"teamb_id\":5,\"teamb_short_name\":\"MUM\",\"teamb_score\":15,\"post_match_position\":null,\"match_result\":\"Telugu Titans Won by 1 Pts\"},{\"id\":0,\"result\":\"W\",\"prev_position\":null,\"date\":\"2016-07-10\",\"teama_id\":2,\"teama_short_name\":\"DEL\",\"teama_score\":16,\"teamb_id\":8,\"teamb_short_name\":\"HYD\",\"teamb_score\":17,\"post_match_position\":null,\"match_result\":\"Telugu Titans Won by 1 Pts\"},{\"id\":0,\"result\":\"W\",\"prev_position\":null,\"date\":\"2016-07-12\",\"teama_id\":1,\"teama_short_name\":\"BLR\",\"teama_score\":10,\"teamb_id\":8,\"teamb_short_name\":\"HYD\",\"teamb_score\":20,\"post_match_position\":null,\"match_result\":\"Telugu Titans Won by 10 Pts\"},{\"id\":0,\"result\":\"W\",\"prev_position\":null,\"date\":\"2016-07-15\",\"teama_id\":8,\"teama_short_name\":\"HYD\",\"teama_score\":21,\"teamb_id\":7,\"teamb_short_name\":\"PUNE\",\"teamb_score\":15,\"post_match_position\":null,\"match_result\":\"Telugu Titans Won by 6 Pts\"},{\"id\":0,\"result\":\"\",\"prev_position\":null,\"date\":\"2016-07-18\",\"teama_id\":4,\"teama_short_name\":\"KOL\",\"teama_score\":19,\"teamb_id\":8,\"teamb_short_name\":\"HYD\",\"teamb_score\":16,\"post_match_position\":null,\"match_result\":\"\"},{\"id\":0,\"result\":\"W\",\"prev_position\":null,\"date\":\"2016-07-19\",\"teama_id\":8,\"teama_short_name\":\"HYD\",\"teama_score\":19,\"teamb_id\":2,\"teamb_short_name\":\"DEL\",\"teamb_score\":13,\"post_match_position\":null,\"match_result\":\"Telugu Titans Won by 6 Pts\"},{\"id\":0,\"result\":\"\",\"prev_position\":null,\"date\":\"2016-07-21\",\"teama_id\":5,\"teama_short_name\":\"MUM\",\"teama_score\":14,\"teamb_id\":8,\"teamb_short_name\":\"HYD\",\"teamb_score\":11,\"post_match_position\":null,\"match_result\":\"\"},{\"id\":0,\"result\":\"W\",\"prev_position\":null,\"date\":\"2016-07-24\",\"teama_id\":8,\"teama_short_name\":\"HYD\",\"teama_score\":22,\"teamb_id\":3,\"teamb_short_name\":\"JAI\",\"teamb_score\":12,\"post_match_position\":null,\"match_result\":\"Telugu Titans Won by 10 Pts\"},{\"id\":0,\"result\":\"W\",\"prev_position\":null,\"date\":\"2016-07-26\",\"teama_id\":6,\"teama_short_name\":\"PAT\",\"teama_score\":12,\"teamb_id\":8,\"teamb_short_name\":\"HYD\",\"teamb_score\":25,\"post_match_position\":null,\"match_result\":\"Telugu Titans Won by 13 Pts\"},{\"id\":0,\"result\":\"L\",\"prev_position\":null,\"date\":\"2016-07-29\",\"teama_id\":8,\"teama_short_name\":\"HYD\",\"teama_score\":9,\"teamb_id\":3,\"teamb_short_name\":\"JAI\",\"teamb_score\":16,\"post_match_position\":null,\"match_result\":\"Jaipur Pink Panthers Won by 7 Pts\"},{\"id\":0,\"result\":\"L\",\"prev_position\":null,\"date\":\"2016-07-31\",\"teama_id\":8,\"teama_short_name\":\"HYD\",\"teama_score\":11,\"teamb_id\":7,\"teamb_short_name\":\"PUNE\",\"teamb_score\":20,\"post_match_position\":null,\"match_result\":\"Puneri Paltan Won by 9 Pts\"}]}},{\"team_id\":2,\"team_global_id\":0,\"team_name\":\"Dabang Delhi K.C.\",\"team_short_name\":\"Delhi\",\"position\":\"6\",\"prev_position\":null,\"position_status\":null,\"played\":\"14\",\"wins\":\"5\",\"lost\":\"8\",\"tied\":\"1\",\"draws\":\"0\",\"noresult\":\"0\",\"score_diff\":\"0\",\"points_conceded\":\"\",\"points_scored\":\"\",\"points\":\"32\",\"away_wins\":\"\",\"away_points_conceded\":\"\",\"away_points_scored\":\"\",\"home_wins\":\"\",\"is_qualified\":false,\"trump_matches_won\":\"\",\"ga\":\"\",\"gf\":\"\",\"match_result\":{\"match\":[{\"id\":0,\"result\":\"L\",\"prev_position\":null,\"date\":\"2016-06-27\",\"teama_id\":4,\"teama_short_name\":\"KOL\",\"teama_score\":16,\"teamb_id\":2,\"teamb_short_name\":\"DEL\",\"teamb_score\":15,\"post_match_position\":null,\"match_result\":\"Bengal Warriors Won by 1 Pts\"},{\"id\":0,\"result\":\"\",\"prev_position\":null,\"date\":\"2016-06-28\",\"teama_id\":7,\"teama_short_name\":\"PUNE\",\"teama_score\":11,\"teamb_id\":2,\"teamb_short_name\":\"DEL\",\"teamb_score\":15,\"post_match_position\":null,\"match_result\":\"\"},{\"id\":0,\"result\":\"L\",\"prev_position\":null,\"date\":\"2016-07-01\",\"teama_id\":5,\"teama_short_name\":\"MUM\",\"teama_score\":17,\"teamb_id\":2,\"teamb_short_name\":\"DEL\",\"teamb_score\":15,\"post_match_position\":null,\"match_result\":\"U Mumba Won by 2 Pts\"},{\"id\":0,\"result\":\"W\",\"prev_position\":null,\"date\":\"2016-07-02\",\"teama_id\":2,\"teama_short_name\":\"DEL\",\"teama_score\":23,\"teamb_id\":1,\"teamb_short_name\":\"BLR\",\"teamb_score\":13,\"post_match_position\":null,\"match_result\":\"Dabang Delhi K.C. Won by 10 Pts\"},{\"id\":0,\"result\":\"L\",\"prev_position\":null,\"date\":\"2016-07-06\",\"teama_id\":2,\"teama_short_name\":\"DEL\",\"teama_score\":11,\"teamb_id\":3,\"teamb_short_name\":\"JAI\",\"teamb_score\":24,\"post_match_position\":null,\"match_result\":\"Jaipur Pink Panthers Won by 13 Pts\"},{\"id\":0,\"result\":\"W\",\"prev_position\":null,\"date\":\"2016-07-09\",\"teama_id\":6,\"teama_short_name\":\"PAT\",\"teama_score\":7,\"teamb_id\":2,\"teamb_short_name\":\"DEL\",\"teamb_score\":22,\"post_match_position\":null,\"match_result\":\"Dabang Delhi K.C. Won by 15 Pts\"},{\"id\":0,\"result\":\"L\",\"prev_position\":null,\"date\":\"2016-07-10\",\"teama_id\":2,\"teama_short_name\":\"DEL\",\"teama_score\":16,\"teamb_id\":8,\"teamb_short_name\":\"HYD\",\"teamb_score\":17,\"post_match_position\":null,\"match_result\":\"Telugu Titans Won by 1 Pts\"},{\"id\":0,\"result\":\"W\",\"prev_position\":null,\"date\":\"2016-07-15\",\"teama_id\":1,\"teama_short_name\":\"BLR\",\"teama_score\":9,\"teamb_id\":2,\"teamb_short_name\":\"DEL\",\"teamb_score\":21,\"post_match_position\":null,\"match_result\":\"Dabang Delhi K.C. Won by 12 Pts\"},{\"id\":0,\"result\":\"L\",\"prev_position\":null,\"date\":\"2016-07-19\",\"teama_id\":8,\"teama_short_name\":\"HYD\",\"teama_score\":19,\"teamb_id\":2,\"teamb_short_name\":\"DEL\",\"teamb_score\":13,\"post_match_position\":null,\"match_result\":\"Telugu Titans Won by 6 Pts\"},{\"id\":0,\"result\":\"L\",\"prev_position\":null,\"date\":\"2016-07-21\",\"teama_id\":3,\"teama_short_name\":\"JAI\",\"teama_score\":10,\"teamb_id\":2,\"teamb_short_name\":\"DEL\",\"teamb_score\":14,\"post_match_position\":null,\"match_result\":\"Jaipur Pink Panthers Won by -4 Pts\"},{\"id\":0,\"result\":\"W\",\"prev_position\":null,\"date\":\"2016-07-24\",\"teama_id\":2,\"teama_short_name\":\"DEL\",\"teama_score\":19,\"teamb_id\":4,\"teamb_short_name\":\"KOL\",\"teamb_score\":14,\"post_match_position\":null,\"match_result\":\"Dabang Delhi K.C. Won by 5 Pts\"},{\"id\":0,\"result\":\"L\",\"prev_position\":null,\"date\":\"2016-07-25\",\"teama_id\":2,\"teama_short_name\":\"DEL\",\"teama_score\":21,\"teamb_id\":6,\"teamb_short_name\":\"PAT\",\"teamb_score\":12,\"post_match_position\":null,\"match_result\":\"Patna Pirates Won by -9 Pts\"},{\"id\":0,\"result\":\"L\",\"prev_position\":null,\"date\":\"2016-07-26\",\"teama_id\":2,\"teama_short_name\":\"DEL\",\"teama_score\":21,\"teamb_id\":7,\"teamb_short_name\":\"PUNE\",\"teamb_score\":12,\"post_match_position\":null,\"match_result\":\"Puneri Paltan Won by -9 Pts\"},{\"id\":0,\"result\":\"L\",\"prev_position\":null,\"date\":\"2016-07-27\",\"teama_id\":2,\"teama_short_name\":\"DEL\",\"teama_score\":18,\"teamb_id\":5,\"teamb_short_name\":\"MUM\",\"teamb_score\":23,\"post_match_position\":null,\"match_result\":\"U Mumba Won by 5 Pts\"}]}},{\"team_id\":4,\"team_global_id\":0,\"team_name\":\"Bengal Warriors\",\"team_short_name\":\"Bengal\",\"position\":\"7\",\"prev_position\":null,\"position_status\":null,\"played\":\"14\",\"wins\":\"4\",\"lost\":\"9\",\"tied\":\"1\",\"draws\":\"0\",\"noresult\":\"0\",\"score_diff\":\"0\",\"points_conceded\":\"\",\"points_scored\":\"\",\"points\":\"24\",\"away_wins\":\"\",\"away_points_conceded\":\"\",\"away_points_scored\":\"\",\"home_wins\":\"\",\"is_qualified\":false,\"trump_matches_won\":\"\",\"ga\":\"\",\"gf\":\"\",\"match_result\":{\"match\":[{\"id\":0,\"result\":\"L\",\"prev_position\":null,\"date\":\"2016-06-26\",\"teama_id\":1,\"teama_short_name\":\"BLR\",\"teama_score\":12,\"teamb_id\":4,\"teamb_short_name\":\"KOL\",\"teamb_score\":13,\"post_match_position\":null,\"match_result\":\"Bengaluru Bulls Won by -1 Pts\"},{\"id\":0,\"result\":\"W\",\"prev_position\":null,\"date\":\"2016-06-27\",\"teama_id\":4,\"teama_short_name\":\"KOL\",\"teama_score\":16,\"teamb_id\":2,\"teamb_short_name\":\"DEL\",\"teamb_score\":15,\"post_match_position\":null,\"match_result\":\"Bengal Warriors Won by 1 Pts\"},{\"id\":0,\"result\":\"L\",\"prev_position\":null,\"date\":\"2016-07-01\",\"teama_id\":3,\"teama_short_name\":\"JAI\",\"teama_score\":15,\"teamb_id\":4,\"teamb_short_name\":\"KOL\",\"teamb_score\":14,\"post_match_position\":null,\"match_result\":\"Jaipur Pink Panthers Won by 1 Pts\"},{\"id\":0,\"result\":\"L\",\"prev_position\":null,\"date\":\"2016-07-03\",\"teama_id\":4,\"teama_short_name\":\"KOL\",\"teama_score\":8,\"teamb_id\":5,\"teamb_short_name\":\"MUM\",\"teamb_score\":19,\"post_match_position\":null,\"match_result\":\"U Mumba Won by 11 Pts\"},{\"id\":0,\"result\":\"L\",\"prev_position\":null,\"date\":\"2016-07-04\",\"teama_id\":8,\"teama_short_name\":\"HYD\",\"teama_score\":18,\"teamb_id\":4,\"teamb_short_name\":\"KOL\",\"teamb_score\":12,\"post_match_position\":null,\"match_result\":\"Telugu Titans Won by 6 Pts\"},{\"id\":0,\"result\":\"L\",\"prev_position\":null,\"date\":\"2016-07-08\",\"teama_id\":6,\"teama_short_name\":\"PAT\",\"teama_score\":20,\"teamb_id\":4,\"teamb_short_name\":\"KOL\",\"teamb_score\":12,\"post_match_position\":null,\"match_result\":\"Patna Pirates Won by 8 Pts\"},{\"id\":0,\"result\":\"L\",\"prev_position\":null,\"date\":\"2016-07-09\",\"teama_id\":4,\"teama_short_name\":\"KOL\",\"teama_score\":15,\"teamb_id\":7,\"teamb_short_name\":\"PUNE\",\"teamb_score\":18,\"post_match_position\":null,\"match_result\":\"Puneri Paltan Won by 3 Pts\"},{\"id\":0,\"result\":\"\",\"prev_position\":null,\"date\":\"2016-07-12\",\"teama_id\":7,\"teama_short_name\":\"PUNE\",\"teama_score\":16,\"teamb_id\":4,\"teamb_short_name\":\"KOL\",\"teamb_score\":26,\"post_match_position\":null,\"match_result\":\"\"},{\"id\":0,\"result\":\"W\",\"prev_position\":null,\"date\":\"2016-07-16\",\"teama_id\":4,\"teama_short_name\":\"KOL\",\"teama_score\":15,\"teamb_id\":3,\"teamb_short_name\":\"JAI\",\"teamb_score\":11,\"post_match_position\":null,\"match_result\":\"Bengal Warriors Won by 4 Pts\"},{\"id\":0,\"result\":\"L\",\"prev_position\":null,\"date\":\"2016-07-17\",\"teama_id\":4,\"teama_short_name\":\"KOL\",\"teama_score\":16,\"teamb_id\":6,\"teamb_short_name\":\"PAT\",\"teamb_score\":20,\"post_match_position\":null,\"match_result\":\"Patna Pirates Won by 4 Pts\"},{\"id\":0,\"result\":\"\",\"prev_position\":null,\"date\":\"2016-07-18\",\"teama_id\":4,\"teama_short_name\":\"KOL\",\"teama_score\":19,\"teamb_id\":8,\"teamb_short_name\":\"HYD\",\"teamb_score\":16,\"post_match_position\":null,\"match_result\":\"\"},{\"id\":0,\"result\":\"L\",\"prev_position\":null,\"date\":\"2016-07-19\",\"teama_id\":4,\"teama_short_name\":\"KOL\",\"teama_score\":12,\"teamb_id\":1,\"teamb_short_name\":\"BLR\",\"teamb_score\":15,\"post_match_position\":null,\"match_result\":\"Bengaluru Bulls Won by 3 Pts\"},{\"id\":0,\"result\":\"W\",\"prev_position\":null,\"date\":\"2016-07-21\",\"teama_id\":5,\"teama_short_name\":\"MUM\",\"teama_score\":11,\"teamb_id\":4,\"teamb_short_name\":\"KOL\",\"teamb_score\":18,\"post_match_position\":null,\"match_result\":\"Bengal Warriors Won by 7 Pts\"},{\"id\":0,\"result\":\"L\",\"prev_position\":null,\"date\":\"2016-07-24\",\"teama_id\":2,\"teama_short_name\":\"DEL\",\"teama_score\":19,\"teamb_id\":4,\"teamb_short_name\":\"KOL\",\"teamb_score\":14,\"post_match_position\":null,\"match_result\":\"Dabang Delhi K.C. Won by 5 Pts\"}]}},{\"team_id\":7,\"team_global_id\":0,\"team_name\":\"Puneri Paltan\",\"team_short_name\":\"Pune\",\"position\":\"8\",\"prev_position\":null,\"position_status\":null,\"played\":\"14\",\"wins\":\"2\",\"lost\":\"12\",\"tied\":\"0\",\"draws\":\"0\",\"noresult\":\"0\",\"score_diff\":\"0\",\"points_conceded\":\"\",\"points_scored\":\"\",\"points\":\"17\",\"away_wins\":\"\",\"away_points_conceded\":\"\",\"away_points_scored\":\"\",\"home_wins\":\"\",\"is_qualified\":false,\"trump_matches_won\":\"\",\"ga\":\"\",\"gf\":\"\",\"match_result\":{\"match\":[{\"id\":0,\"result\":\"W\",\"prev_position\":null,\"date\":\"2016-06-25\",\"teama_id\":7,\"teama_short_name\":\"PUNE\",\"teama_score\":16,\"teamb_id\":8,\"teamb_short_name\":\"HYD\",\"teamb_score\":16,\"post_match_position\":null,\"match_result\":\"Puneri Paltan Won by 0 Pts\"},{\"id\":0,\"result\":\"W\",\"prev_position\":null,\"date\":\"2016-06-26\",\"teama_id\":7,\"teama_short_name\":\"PUNE\",\"teama_score\":17,\"teamb_id\":5,\"teamb_short_name\":\"MUM\",\"teamb_score\":10,\"post_match_position\":null,\"match_result\":\"Puneri Paltan Won by 7 Pts\"},{\"id\":0,\"result\":\"L\",\"prev_position\":null,\"date\":\"2016-06-27\",\"teama_id\":7,\"teama_short_name\":\"PUNE\",\"teama_score\":14,\"teamb_id\":6,\"teamb_short_name\":\"PAT\",\"teamb_score\":15,\"post_match_position\":null,\"match_result\":\"Patna Pirates Won by 1 Pts\"},{\"id\":0,\"result\":\"\",\"prev_position\":null,\"date\":\"2016-06-28\",\"teama_id\":7,\"teama_short_name\":\"PUNE\",\"teama_score\":11,\"teamb_id\":2,\"teamb_short_name\":\"DEL\",\"teamb_score\":15,\"post_match_position\":null,\"match_result\":\"\"},{\"id\":0,\"result\":\"W\",\"prev_position\":null,\"date\":\"2016-07-02\",\"teama_id\":3,\"teama_short_name\":\"JAI\",\"teama_score\":15,\"teamb_id\":7,\"teamb_short_name\":\"PUNE\",\"teamb_score\":17,\"post_match_position\":null,\"match_result\":\"Puneri Paltan Won by 2 Pts\"},{\"id\":0,\"result\":\"L\",\"prev_position\":null,\"date\":\"2016-07-04\",\"teama_id\":1,\"teama_short_name\":\"BLR\",\"teama_score\":18,\"teamb_id\":7,\"teamb_short_name\":\"PUNE\",\"teamb_score\":14,\"post_match_position\":null,\"match_result\":\"Bengaluru Bulls Won by 4 Pts\"},{\"id\":0,\"result\":\"W\",\"prev_position\":null,\"date\":\"2016-07-09\",\"teama_id\":4,\"teama_short_name\":\"KOL\",\"teama_score\":15,\"teamb_id\":7,\"teamb_short_name\":\"PUNE\",\"teamb_score\":18,\"post_match_position\":null,\"match_result\":\"Puneri Paltan Won by 3 Pts\"},{\"id\":0,\"result\":\"\",\"prev_position\":null,\"date\":\"2016-07-12\",\"teama_id\":7,\"teama_short_name\":\"PUNE\",\"teama_score\":16,\"teamb_id\":4,\"teamb_short_name\":\"KOL\",\"teamb_score\":26,\"post_match_position\":null,\"match_result\":\"\"},{\"id\":0,\"result\":\"L\",\"prev_position\":null,\"date\":\"2016-07-15\",\"teama_id\":8,\"teama_short_name\":\"HYD\",\"teama_score\":21,\"teamb_id\":7,\"teamb_short_name\":\"PUNE\",\"teamb_score\":15,\"post_match_position\":null,\"match_result\":\"Telugu Titans Won by 6 Pts\"},{\"id\":0,\"result\":\"L\",\"prev_position\":null,\"date\":\"2016-07-17\",\"teama_id\":7,\"teama_short_name\":\"PUNE\",\"teama_score\":12,\"teamb_id\":3,\"teamb_short_name\":\"JAI\",\"teamb_score\":17,\"post_match_position\":null,\"match_result\":\"Jaipur Pink Panthers Won by 5 Pts\"},{\"id\":0,\"result\":\"L\",\"prev_position\":null,\"date\":\"2016-07-20\",\"teama_id\":5,\"teama_short_name\":\"MUM\",\"teama_score\":16,\"teamb_id\":7,\"teamb_short_name\":\"PUNE\",\"teamb_score\":16,\"post_match_position\":null,\"match_result\":\"U Mumba Won by 0 Pts\"},{\"id\":0,\"result\":\"L\",\"prev_position\":null,\"date\":\"2016-07-23\",\"teama_id\":6,\"teama_short_name\":\"PAT\",\"teama_score\":17,\"teamb_id\":7,\"teamb_short_name\":\"PUNE\",\"teamb_score\":16,\"post_match_position\":null,\"match_result\":\"Patna Pirates Won by 1 Pts\"},{\"id\":0,\"result\":\"W\",\"prev_position\":null,\"date\":\"2016-07-26\",\"teama_id\":2,\"teama_short_name\":\"DEL\",\"teama_score\":21,\"teamb_id\":7,\"teamb_short_name\":\"PUNE\",\"teamb_score\":12,\"post_match_position\":null,\"match_result\":\"Puneri Paltan Won by -9 Pts\"},{\"id\":0,\"result\":\"W\",\"prev_position\":null,\"date\":\"2016-07-27\",\"teama_id\":7,\"teama_short_name\":\"PUNE\",\"teama_score\":20,\"teamb_id\":1,\"teamb_short_name\":\"BLR\",\"teamb_score\":22,\"post_match_position\":null,\"match_result\":\"Puneri Paltan Won by -2 Pts\"},{\"id\":0,\"result\":\"L\",\"prev_position\":null,\"date\":\"2016-07-29\",\"teama_id\":6,\"teama_short_name\":\"PAT\",\"teama_score\":22,\"teamb_id\":7,\"teamb_short_name\":\"PUNE\",\"teamb_score\":16,\"post_match_position\":null,\"match_result\":\"Patna Pirates Won by 6 Pts\"},{\"id\":0,\"result\":\"W\",\"prev_position\":null,\"date\":\"2016-07-31\",\"teama_id\":8,\"teama_short_name\":\"HYD\",\"teama_score\":11,\"teamb_id\":7,\"teamb_short_name\":\"PUNE\",\"teamb_score\":20,\"post_match_position\":null,\"match_result\":\"Puneri Paltan Won by 9 Pts\"}]}}]}}]}}"
      ]
     },
     "execution_count": 22,
     "metadata": {},
     "output_type": "execute_result"
    }
   ],
   "source": [
    "doc"
   ]
  }
 ],
 "metadata": {
  "kernelspec": {
   "display_name": "Python 3",
   "language": "python",
   "name": "python3"
  },
  "language_info": {
   "codemirror_mode": {
    "name": "ipython",
    "version": 3
   },
   "file_extension": ".py",
   "mimetype": "text/x-python",
   "name": "python",
   "nbconvert_exporter": "python",
   "pygments_lexer": "ipython3",
   "version": "3.10.2"
  },
  "orig_nbformat": 4,
  "vscode": {
   "interpreter": {
    "hash": "f2ccb58c476f33ba3e3aee7ac07234ef6b8217ef24ad64d2a7d4fed1a57c1cd2"
   }
  }
 },
 "nbformat": 4,
 "nbformat_minor": 2
}
